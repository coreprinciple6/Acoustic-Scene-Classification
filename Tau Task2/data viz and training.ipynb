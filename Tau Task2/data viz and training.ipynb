{
 "cells": [
  {
   "cell_type": "code",
   "execution_count": 9,
   "metadata": {},
   "outputs": [
    {
     "data": {
      "text/html": [
       "<div>\n",
       "<style scoped>\n",
       "    .dataframe tbody tr th:only-of-type {\n",
       "        vertical-align: middle;\n",
       "    }\n",
       "\n",
       "    .dataframe tbody tr th {\n",
       "        vertical-align: top;\n",
       "    }\n",
       "\n",
       "    .dataframe thead th {\n",
       "        text-align: right;\n",
       "    }\n",
       "</style>\n",
       "<table border=\"1\" class=\"dataframe\">\n",
       "  <thead>\n",
       "    <tr style=\"text-align: right;\">\n",
       "      <th></th>\n",
       "      <th>filename</th>\n",
       "      <th>category</th>\n",
       "    </tr>\n",
       "  </thead>\n",
       "  <tbody>\n",
       "    <tr>\n",
       "      <th>0</th>\n",
       "      <td>fan-normal_id_01_00000000 .wav</td>\n",
       "      <td>fan</td>\n",
       "    </tr>\n",
       "    <tr>\n",
       "      <th>1</th>\n",
       "      <td>fan-normal_id_01_00000001 .wav</td>\n",
       "      <td>fan</td>\n",
       "    </tr>\n",
       "    <tr>\n",
       "      <th>2</th>\n",
       "      <td>fan-normal_id_01_00000002 .wav</td>\n",
       "      <td>fan</td>\n",
       "    </tr>\n",
       "    <tr>\n",
       "      <th>3</th>\n",
       "      <td>fan-normal_id_01_00000003 .wav</td>\n",
       "      <td>fan</td>\n",
       "    </tr>\n",
       "    <tr>\n",
       "      <th>4</th>\n",
       "      <td>fan-normal_id_01_00000004 .wav</td>\n",
       "      <td>fan</td>\n",
       "    </tr>\n",
       "  </tbody>\n",
       "</table>\n",
       "</div>"
      ],
      "text/plain": [
       "                         filename category\n",
       "0  fan-normal_id_01_00000000 .wav      fan\n",
       "1  fan-normal_id_01_00000001 .wav      fan\n",
       "2  fan-normal_id_01_00000002 .wav      fan\n",
       "3  fan-normal_id_01_00000003 .wav      fan\n",
       "4  fan-normal_id_01_00000004 .wav      fan"
      ]
     },
     "execution_count": 9,
     "metadata": {},
     "output_type": "execute_result"
    }
   ],
   "source": [
    "#importing csv file for the classes\n",
    "import pandas as pd\n",
    "metadata = pd.read_csv('list1.csv')\n",
    "metadata.head()"
   ]
  },
  {
   "cell_type": "code",
   "execution_count": 10,
   "metadata": {},
   "outputs": [
    {
     "name": "stdout",
     "output_type": "stream",
     "text": [
      "toycar         2370\n",
      "pump           2370\n",
      "fan            2370\n",
      "toyconveyor    2370\n",
      "slider         2370\n",
      "valve          2370\n",
      "Name: category, dtype: int64\n"
     ]
    }
   ],
   "source": [
    "#class distribution\n",
    "print(metadata.category.value_counts())"
   ]
  },
  {
   "cell_type": "markdown",
   "metadata": {},
   "source": [
    "### Iterate through each audio file and extract, number of audio channels, sample rate and bit-depth."
   ]
  },
  {
   "cell_type": "code",
   "execution_count": 11,
   "metadata": {},
   "outputs": [],
   "source": [
    "# Load various imports \n",
    "import pandas as pd\n",
    "import os\n",
    "import librosa\n",
    "import librosa.display\n",
    "\n",
    "from helpers.wavfilehelper import WavFileHelper\n",
    "wavfilehelper = WavFileHelper()\n",
    "\n",
    "audiodata = []\n",
    "for index, row in metadata.iterrows():\n",
    "    \n",
    "    file_name = os.path.join(os.path.abspath('E://Repos//Tau_Task2-dataset'),str(row[\"filename\"]))\n",
    "    data = wavfilehelper.read_file_properties(file_name)\n",
    "    audiodata.append(data)\n",
    "\n",
    "# Convert into a Panda dataframe\n",
    "audiodf = pd.DataFrame(audiodata, columns=['num_channels','sample_rate','bit_depth'])"
   ]
  },
  {
   "cell_type": "code",
   "execution_count": 12,
   "metadata": {},
   "outputs": [
    {
     "name": "stdout",
     "output_type": "stream",
     "text": [
      "1    1.0\n",
      "Name: num_channels, dtype: float64\n"
     ]
    }
   ],
   "source": [
    "# num of channels \n",
    "\n",
    "print(audiodf.num_channels.value_counts(normalize=True))"
   ]
  },
  {
   "cell_type": "code",
   "execution_count": 13,
   "metadata": {},
   "outputs": [
    {
     "name": "stdout",
     "output_type": "stream",
     "text": [
      "16000    1.0\n",
      "Name: sample_rate, dtype: float64\n"
     ]
    }
   ],
   "source": [
    "# sample rates \n",
    "\n",
    "print(audiodf.sample_rate.value_counts(normalize=True))"
   ]
  },
  {
   "cell_type": "code",
   "execution_count": 14,
   "metadata": {},
   "outputs": [
    {
     "name": "stdout",
     "output_type": "stream",
     "text": [
      "16    1.0\n",
      "Name: bit_depth, dtype: float64\n"
     ]
    }
   ],
   "source": [
    "# bit depth\n",
    "\n",
    "print(audiodf.bit_depth.value_counts(normalize=True))"
   ]
  },
  {
   "cell_type": "markdown",
   "metadata": {},
   "source": [
    "## Extracting a MFCC\n",
    "#### For this we will use Librosa's mfcc() function which generates an MFCC from time series audio data."
   ]
  },
  {
   "cell_type": "code",
   "execution_count": 25,
   "metadata": {},
   "outputs": [
    {
     "name": "stdout",
     "output_type": "stream",
     "text": [
      "(40, 431)\n"
     ]
    }
   ],
   "source": [
    "import librosa \n",
    "import numpy as np\n",
    "\n",
    "#lets find mfcc for one file only\n",
    "\n",
    "filename = 'E://Repos//Tau_Task2-dataset//fan-normal_id_01_00000000 .wav' \n",
    "\n",
    "librosa_audio, librosa_sample_rate = librosa.load(filename) \n",
    "\n",
    "mfccs = librosa.feature.mfcc(y=librosa_audio, sr=librosa_sample_rate, n_mfcc=40)\n",
    "print(mfccs.shape)"
   ]
  },
  {
   "cell_type": "code",
   "execution_count": 26,
   "metadata": {},
   "outputs": [
    {
     "data": {
      "text/plain": [
       "<matplotlib.collections.QuadMesh at 0x2ce047ea308>"
      ]
     },
     "execution_count": 26,
     "metadata": {},
     "output_type": "execute_result"
    },
    {
     "data": {
      "image/png": "[encoded data removed]",
      "text/plain": [
       "<Figure size 432x288 with 1 Axes>"
      ]
     },
     "metadata": {
      "needs_background": "light"
     },
     "output_type": "display_data"
    }
   ],
   "source": [
    "#showing mfccs of the given sample \n",
    "import librosa.display\n",
    "librosa.display.specshow(mfccs, sr=librosa_sample_rate, x_axis='time', cmap='viridis')"
   ]
  },
  {
   "cell_type": "code",
   "execution_count": 36,
   "metadata": {},
   "outputs": [
    {
     "name": "stdout",
     "output_type": "stream",
     "text": [
      "(40, 474)\n"
     ]
    },
    {
     "data": {
      "text/plain": [
       "<matplotlib.collections.QuadMesh at 0x2ce0bd8e6c8>"
      ]
     },
     "execution_count": 36,
     "metadata": {},
     "output_type": "execute_result"
    },
    {
     "data": {
      "image/png": "[encoded data removed]",
      "text/plain": [
       "<Figure size 432x288 with 1 Axes>"
      ]
     },
     "metadata": {
      "needs_background": "light"
     },
     "output_type": "display_data"
    }
   ],
   "source": [
    "#showing mfccs of the given sample \n",
    "\n",
    "filename = 'E://Repos//Tau_Task2-dataset//toycar-normal_id_05_00000344 .wav' \n",
    "\n",
    "librosa_audio, librosa_sample_rate = librosa.load(filename) \n",
    "\n",
    "mfccs = librosa.feature.mfcc(y=librosa_audio, sr=librosa_sample_rate, n_mfcc=40)\n",
    "print(mfccs.shape)\n",
    "import librosa.display\n",
    "librosa.display.specshow(mfccs, sr=librosa_sample_rate, x_axis='time', cmap='viridis')\n"
   ]
  },
  {
   "cell_type": "code",
   "execution_count": 39,
   "metadata": {},
   "outputs": [
    {
     "name": "stdout",
     "output_type": "stream",
     "text": [
      "(40, 474)\n"
     ]
    },
    {
     "data": {
      "text/plain": [
       "<matplotlib.collections.QuadMesh at 0x2ce04987a08>"
      ]
     },
     "execution_count": 39,
     "metadata": {},
     "output_type": "execute_result"
    },
    {
     "data": {
      "image/png": "[encoded data removed]",
      "text/plain": [
       "<Figure size 432x288 with 1 Axes>"
      ]
     },
     "metadata": {
      "needs_background": "light"
     },
     "output_type": "display_data"
    }
   ],
   "source": [
    "#showing mfccs of the given sample \n",
    "\n",
    "filename = 'E://Repos//Tau_Task2-dataset//toycar-normal_id_05_00000436 .wav' \n",
    "\n",
    "librosa_audio, librosa_sample_rate = librosa.load(filename) \n",
    "\n",
    "mfccs = librosa.feature.mfcc(y=librosa_audio, sr=librosa_sample_rate, n_mfcc=40)\n",
    "print(mfccs.shape)\n",
    "import librosa.display\n",
    "librosa.display.specshow(mfccs, sr=librosa_sample_rate, x_axis='time', cmap='viridis')\n",
    "\n",
    "\n"
   ]
  },
  {
   "cell_type": "code",
   "execution_count": 40,
   "metadata": {},
   "outputs": [],
   "source": [
    "#function to extract MFCC for all files\n",
    "import numpy as np\n",
    "max_pad_len = 480\n",
    "\n",
    "def extract_features(file_name):\n",
    "   \n",
    "    try:\n",
    "        audio, sample_rate = librosa.load(file_name, res_type='kaiser_fast') \n",
    "        mfccs = librosa.feature.mfcc(y=audio, sr=sample_rate, n_mfcc=40)\n",
    "        pad_width = max_pad_len - mfccs.shape[1]\n",
    "        mfccs = np.pad(mfccs, pad_width=((0, 0), (0, pad_width)), mode='constant')\n",
    "        \n",
    "    except Exception as e:\n",
    "        print(\"Error encountered while parsing file: \", file_name)\n",
    "        return None \n",
    "     \n",
    "    return mfccs"
   ]
  },
  {
   "cell_type": "code",
   "execution_count": 41,
   "metadata": {},
   "outputs": [
    {
     "name": "stdout",
     "output_type": "stream",
     "text": [
      "Finished feature extraction from  14220  files\n"
     ]
    }
   ],
   "source": [
    "# Load various imports \n",
    "import pandas as pd\n",
    "import os\n",
    "import librosa\n",
    "\n",
    "# Set the path to the full UrbanSound dataset \n",
    "fulldatasetpath = 'E://Repos//Tau_Task2-dataset'\n",
    "\n",
    "metadata = pd.read_csv('list1.csv')\n",
    "\n",
    "features = []\n",
    "\n",
    "# Iterate through each sound file and extract the features \n",
    "for index, row in metadata.iterrows():\n",
    "    \n",
    "    file_name = os.path.join(os.path.abspath(fulldatasetpath),str(row[\"filename\"]))\n",
    "    \n",
    "    class_label = row[\"category\"]\n",
    "    data = extract_features(file_name)\n",
    "    \n",
    "    features.append([data, class_label])\n",
    "\n",
    "# Convert into a Panda dataframe \n",
    "featuresdf = pd.DataFrame(features, columns=['feature','class_label'])\n",
    "\n",
    "print('Finished feature extraction from ', len(featuresdf), ' files') "
   ]
  },
  {
   "cell_type": "code",
   "execution_count": 42,
   "metadata": {},
   "outputs": [],
   "source": [
    "from sklearn.preprocessing import LabelEncoder\n",
    "from keras.utils import to_categorical\n",
    "\n",
    "# Convert features and corresponding classification labels into numpy arrays\n",
    "X = np.array(featuresdf.feature.tolist())\n",
    "y = np.array(featuresdf.class_label.tolist())\n",
    "\n",
    "# Encode the classification labels\n",
    "le = LabelEncoder()\n",
    "yy = to_categorical(le.fit_transform(y)) "
   ]
  },
  {
   "cell_type": "code",
   "execution_count": 43,
   "metadata": {},
   "outputs": [],
   "source": [
    "# split the dataset \n",
    "from sklearn.model_selection import train_test_split \n",
    "\n",
    "x_train, x_test, y_train, y_test = train_test_split(X, yy, test_size=0.2, random_state = 42)"
   ]
  },
  {
   "cell_type": "markdown",
   "metadata": {},
   "source": [
    "## CNN model"
   ]
  },
  {
   "cell_type": "code",
   "execution_count": 44,
   "metadata": {},
   "outputs": [],
   "source": [
    "import numpy as np\n",
    "from keras.models import Sequential\n",
    "from keras.layers import Dense, Dropout, Activation, Flatten\n",
    "from keras.layers import Convolution2D, Conv2D, MaxPooling2D, GlobalAveragePooling2D\n",
    "from keras.optimizers import Adam\n",
    "from keras.utils import np_utils\n",
    "from sklearn import metrics \n",
    "\n",
    "num_rows = 40\n",
    "num_columns = 480\n",
    "num_channels = 1\n",
    "\n",
    "x_train = x_train.reshape(x_train.shape[0], num_rows, num_columns, num_channels)\n",
    "x_test = x_test.reshape(x_test.shape[0], num_rows, num_columns, num_channels)\n",
    "\n",
    "num_labels = yy.shape[1]\n",
    "filter_size = 2\n",
    "\n",
    "# Construct model \n",
    "model = Sequential()\n",
    "model.add(Conv2D(filters=16, kernel_size=2, input_shape=(num_rows, num_columns, num_channels), activation='relu'))\n",
    "model.add(MaxPooling2D(pool_size=2))\n",
    "model.add(Dropout(0.2))\n",
    "\n",
    "model.add(Conv2D(filters=32, kernel_size=2, activation='relu'))\n",
    "model.add(MaxPooling2D(pool_size=2))\n",
    "model.add(Dropout(0.2))\n",
    "\n",
    "model.add(Conv2D(filters=64, kernel_size=2, activation='relu'))\n",
    "model.add(MaxPooling2D(pool_size=2))\n",
    "model.add(Dropout(0.2))\n",
    "\n",
    "model.add(Conv2D(filters=128, kernel_size=2, activation='relu'))\n",
    "model.add(MaxPooling2D(pool_size=2))\n",
    "model.add(Dropout(0.2))\n",
    "model.add(GlobalAveragePooling2D())\n",
    "\n",
    "model.add(Dense(num_labels, activation='softmax')) "
   ]
  },
  {
   "cell_type": "code",
   "execution_count": 45,
   "metadata": {},
   "outputs": [],
   "source": [
    "# Compile the model\n",
    "model.compile(loss='categorical_crossentropy', metrics=['accuracy'], optimizer='adam') "
   ]
  },
  {
   "cell_type": "code",
   "execution_count": 46,
   "metadata": {},
   "outputs": [
    {
     "name": "stdout",
     "output_type": "stream",
     "text": [
      "Model: \"sequential_1\"\n",
      "_________________________________________________________________\n",
      "Layer (type)                 Output Shape              Param #   \n",
      "=================================================================\n",
      "conv2d_1 (Conv2D)            (None, 39, 479, 16)       80        \n",
      "_________________________________________________________________\n",
      "max_pooling2d_1 (MaxPooling2 (None, 19, 239, 16)       0         \n",
      "_________________________________________________________________\n",
      "dropout_1 (Dropout)          (None, 19, 239, 16)       0         \n",
      "_________________________________________________________________\n",
      "conv2d_2 (Conv2D)            (None, 18, 238, 32)       2080      \n",
      "_________________________________________________________________\n",
      "max_pooling2d_2 (MaxPooling2 (None, 9, 119, 32)        0         \n",
      "_________________________________________________________________\n",
      "dropout_2 (Dropout)          (None, 9, 119, 32)        0         \n",
      "_________________________________________________________________\n",
      "conv2d_3 (Conv2D)            (None, 8, 118, 64)        8256      \n",
      "_________________________________________________________________\n",
      "max_pooling2d_3 (MaxPooling2 (None, 4, 59, 64)         0         \n",
      "_________________________________________________________________\n",
      "dropout_3 (Dropout)          (None, 4, 59, 64)         0         \n",
      "_________________________________________________________________\n",
      "conv2d_4 (Conv2D)            (None, 3, 58, 128)        32896     \n",
      "_________________________________________________________________\n",
      "max_pooling2d_4 (MaxPooling2 (None, 1, 29, 128)        0         \n",
      "_________________________________________________________________\n",
      "dropout_4 (Dropout)          (None, 1, 29, 128)        0         \n",
      "_________________________________________________________________\n",
      "global_average_pooling2d_1 ( (None, 128)               0         \n",
      "_________________________________________________________________\n",
      "dense_1 (Dense)              (None, 6)                 774       \n",
      "=================================================================\n",
      "Total params: 44,086\n",
      "Trainable params: 44,086\n",
      "Non-trainable params: 0\n",
      "_________________________________________________________________\n",
      "2844/2844 [==============================] - 9s 3ms/step\n",
      "Pre-training accuracy: 25.1758%\n"
     ]
    }
   ],
   "source": [
    "# Display model architecture summary \n",
    "model.summary()\n",
    "\n",
    "# Calculate pre-training accuracy \n",
    "score = model.evaluate(x_test, y_test, verbose=1)\n",
    "accuracy = 100*score[1]\n",
    "\n",
    "print(\"Pre-training accuracy: %.4f%%\" % accuracy)"
   ]
  },
  {
   "cell_type": "markdown",
   "metadata": {},
   "source": [
    "## Training"
   ]
  },
  {
   "cell_type": "code",
   "execution_count": 50,
   "metadata": {},
   "outputs": [
    {
     "name": "stdout",
     "output_type": "stream",
     "text": [
      "Train on 11376 samples, validate on 2844 samples\n",
      "Epoch 1/16\n",
      "11376/11376 [==============================] - 118s 10ms/step - loss: 0.1907 - accuracy: 0.9339 - val_loss: 0.4980 - val_accuracy: 0.8368\n",
      "\n",
      "Epoch 00001: val_loss improved from inf to 0.49796, saving model to saved_models/weights.best.basic_cnn.hdf5\n",
      "Epoch 2/16\n",
      "11376/11376 [==============================] - 121s 11ms/step - loss: 0.1789 - accuracy: 0.9382 - val_loss: 0.4847 - val_accuracy: 0.8439\n",
      "\n",
      "Epoch 00002: val_loss improved from 0.49796 to 0.48467, saving model to saved_models/weights.best.basic_cnn.hdf5\n",
      "Epoch 3/16\n",
      "11376/11376 [==============================] - 122s 11ms/step - loss: 0.1894 - accuracy: 0.9335 - val_loss: 0.4960 - val_accuracy: 0.8182\n",
      "\n",
      "Epoch 00003: val_loss did not improve from 0.48467\n",
      "Epoch 4/16\n",
      "11376/11376 [==============================] - 122s 11ms/step - loss: 0.1864 - accuracy: 0.9332 - val_loss: 0.4816 - val_accuracy: 0.8383\n",
      "\n",
      "Epoch 00004: val_loss improved from 0.48467 to 0.48157, saving model to saved_models/weights.best.basic_cnn.hdf5\n",
      "Epoch 5/16\n",
      "11376/11376 [==============================] - 123s 11ms/step - loss: 0.1658 - accuracy: 0.9434 - val_loss: 0.4809 - val_accuracy: 0.8428\n",
      "\n",
      "Epoch 00005: val_loss improved from 0.48157 to 0.48092, saving model to saved_models/weights.best.basic_cnn.hdf5\n",
      "Epoch 6/16\n",
      "11376/11376 [==============================] - 123s 11ms/step - loss: 0.1696 - accuracy: 0.9398 - val_loss: 0.5172 - val_accuracy: 0.8404\n",
      "\n",
      "Epoch 00006: val_loss did not improve from 0.48092\n",
      "Epoch 7/16\n",
      "11376/11376 [==============================] - 123s 11ms/step - loss: 0.1613 - accuracy: 0.9443 - val_loss: 0.4407 - val_accuracy: 0.8513\n",
      "\n",
      "Epoch 00007: val_loss improved from 0.48092 to 0.44067, saving model to saved_models/weights.best.basic_cnn.hdf5\n",
      "Epoch 8/16\n",
      "11376/11376 [==============================] - 123s 11ms/step - loss: 0.1532 - accuracy: 0.9458 - val_loss: 0.4428 - val_accuracy: 0.8601\n",
      "\n",
      "Epoch 00008: val_loss did not improve from 0.44067\n",
      "Epoch 9/16\n",
      "11376/11376 [==============================] - 125s 11ms/step - loss: 0.1489 - accuracy: 0.9468 - val_loss: 0.4595 - val_accuracy: 0.8551\n",
      "\n",
      "Epoch 00009: val_loss did not improve from 0.44067\n",
      "Epoch 10/16\n",
      "11376/11376 [==============================] - 123s 11ms/step - loss: 0.1468 - accuracy: 0.9495 - val_loss: 0.4058 - val_accuracy: 0.8731\n",
      "\n",
      "Epoch 00010: val_loss improved from 0.44067 to 0.40575, saving model to saved_models/weights.best.basic_cnn.hdf5\n",
      "Epoch 11/16\n",
      "11376/11376 [==============================] - 123s 11ms/step - loss: 0.1445 - accuracy: 0.9492 - val_loss: 0.3916 - val_accuracy: 0.8713\n",
      "\n",
      "Epoch 00011: val_loss improved from 0.40575 to 0.39160, saving model to saved_models/weights.best.basic_cnn.hdf5\n",
      "Epoch 12/16\n",
      "11376/11376 [==============================] - 123s 11ms/step - loss: 0.1356 - accuracy: 0.9521 - val_loss: 0.3774 - val_accuracy: 0.8783\n",
      "\n",
      "Epoch 00012: val_loss improved from 0.39160 to 0.37740, saving model to saved_models/weights.best.basic_cnn.hdf5\n",
      "Epoch 13/16\n",
      "11376/11376 [==============================] - 122s 11ms/step - loss: 0.1333 - accuracy: 0.9530 - val_loss: 0.3927 - val_accuracy: 0.8759\n",
      "\n",
      "Epoch 00013: val_loss did not improve from 0.37740\n",
      "Epoch 14/16\n",
      "11376/11376 [==============================] - 124s 11ms/step - loss: 0.1392 - accuracy: 0.9502 - val_loss: 0.4127 - val_accuracy: 0.8650\n",
      "\n",
      "Epoch 00014: val_loss did not improve from 0.37740\n",
      "Epoch 15/16\n",
      "11376/11376 [==============================] - 123s 11ms/step - loss: 0.1231 - accuracy: 0.9573 - val_loss: 0.2949 - val_accuracy: 0.9019\n",
      "\n",
      "Epoch 00015: val_loss improved from 0.37740 to 0.29487, saving model to saved_models/weights.best.basic_cnn.hdf5\n",
      "Epoch 16/16\n",
      "11376/11376 [==============================] - 123s 11ms/step - loss: 0.1204 - accuracy: 0.9569 - val_loss: 0.3113 - val_accuracy: 0.8966\n",
      "\n",
      "Epoch 00016: val_loss did not improve from 0.29487\n",
      "Training completed in time:  0:32:43.039667\n"
     ]
    }
   ],
   "source": [
    "from keras.callbacks import ModelCheckpoint \n",
    "from datetime import datetime \n",
    "\n",
    "#num_epochs = 10\n",
    "#num_batch_size = 128\n",
    "# train: 79.7%\n",
    "#test : 80.8%\n",
    "\n",
    "num_epochs = 16\n",
    "num_batch_size = 256\n",
    "\n",
    "checkpointer = ModelCheckpoint(filepath='saved_models/weights.best.basic_cnn.hdf5', \n",
    "                               verbose=1, save_best_only=True)\n",
    "start = datetime.now()\n",
    "\n",
    "model.fit(x_train, y_train, batch_size=num_batch_size, epochs=num_epochs, validation_data=(x_test, y_test), callbacks=[checkpointer], verbose=1)\n",
    "\n",
    "\n",
    "duration = datetime.now() - start\n",
    "print(\"Training completed in time: \", duration)"
   ]
  },
  {
   "cell_type": "code",
   "execution_count": 51,
   "metadata": {},
   "outputs": [
    {
     "name": "stdout",
     "output_type": "stream",
     "text": [
      "Training Accuracy:  0.905414879322052\n",
      "Testing Accuracy:  0.8966244459152222\n"
     ]
    }
   ],
   "source": [
    "# Evaluating the model on the training and testing set\n",
    "score = model.evaluate(x_train, y_train, verbose=0)\n",
    "print(\"Training Accuracy: \", score[1])\n",
    "\n",
    "score = model.evaluate(x_test, y_test, verbose=0)\n",
    "print(\"Testing Accuracy: \", score[1])"
   ]
  },
  {
   "cell_type": "code",
   "execution_count": 62,
   "metadata": {},
   "outputs": [
    {
     "name": "stdout",
     "output_type": "stream",
     "text": [
      "(40, 431)\n"
     ]
    },
    {
     "data": {
      "text/plain": [
       "<matplotlib.collections.QuadMesh at 0x2ce2f1d7588>"
      ]
     },
     "execution_count": 62,
     "metadata": {},
     "output_type": "execute_result"
    },
    {
     "data": {
      "image/png": "[encoded data removed]",
      "text/plain": [
       "<Figure size 432x288 with 1 Axes>"
      ]
     },
     "metadata": {
      "needs_background": "light"
     },
     "output_type": "display_data"
    }
   ],
   "source": [
    "##  Testing \n",
    "filename = 'E://temp_tau//fan-normal_id_05_00000524 .wav' \n",
    "\n",
    "librosa_audio, librosa_sample_rate = librosa.load(filename) \n",
    "\n",
    "mfccs = librosa.feature.mfcc(y=librosa_audio, sr=librosa_sample_rate, n_mfcc=40)\n",
    "print(mfccs.shape)\n",
    "import librosa.display\n",
    "librosa.display.specshow(mfccs, sr=librosa_sample_rate, x_axis='time', cmap='viridis')\n",
    "\n",
    "\n"
   ]
  },
  {
   "cell_type": "code",
   "execution_count": 54,
   "metadata": {},
   "outputs": [],
   "source": [
    "# prediction function\n",
    "import numpy as np\n",
    "def print_prediction(file_name):\n",
    "    prediction_feature = extract_features(file_name) \n",
    "    prediction_feature = prediction_feature.reshape(1, num_rows, num_columns, num_channels)\n",
    "\n",
    "    predicted_vector = model.predict_classes(prediction_feature)\n",
    "    predicted_class = le.inverse_transform(predicted_vector) \n",
    "    print(\"The predicted class is:\", predicted_class[0], '\\n') \n",
    "\n",
    "    predicted_proba_vector = model.predict_proba(prediction_feature) \n",
    "    predicted_proba = predicted_proba_vector[0]\n",
    "    for i in range(len(predicted_proba)): \n",
    "        category = le.inverse_transform(np.array([i]))\n",
    "        print(category[0], \"\\t\\t : \", format(predicted_proba[i], '.32f') )"
   ]
  },
  {
   "cell_type": "code",
   "execution_count": 63,
   "metadata": {},
   "outputs": [
    {
     "name": "stdout",
     "output_type": "stream",
     "text": [
      "The predicted class is: fan \n",
      "\n",
      "fan \t\t :  0.99958509206771850585937500000000\n",
      "pump \t\t :  0.00033056989195756614208221435547\n",
      "slider \t\t :  0.00007249464397318661212921142578\n",
      "toycar \t\t :  0.00000011453725079491050564683974\n",
      "toyconveyor \t\t :  0.00000223220877160201780498027802\n",
      "valve \t\t :  0.00000949150671658571809530258179\n"
     ]
    }
   ],
   "source": [
    "\n",
    "filename = 'E://temp_tau//fan-normal_id_05_00000524 .wav' \n",
    "print_prediction(filename) "
   ]
  },
  {
   "cell_type": "code",
   "execution_count": 64,
   "metadata": {},
   "outputs": [
    {
     "name": "stdout",
     "output_type": "stream",
     "text": [
      "The predicted class is: slider \n",
      "\n",
      "fan \t\t :  0.00981226377189159393310546875000\n",
      "pump \t\t :  0.23897150158882141113281250000000\n",
      "slider \t\t :  0.67220932245254516601562500000000\n",
      "toycar \t\t :  0.00000118151695005508372560143471\n",
      "toyconveyor \t\t :  0.00002388438952038995921611785889\n",
      "valve \t\t :  0.07898185402154922485351562500000\n"
     ]
    }
   ],
   "source": [
    "\n",
    "filename = 'E://temp_tau//valve-normal_id_05_00000777 .wav' \n",
    "print_prediction(filename)"
   ]
  },
  {
   "cell_type": "code",
   "execution_count": 65,
   "metadata": {},
   "outputs": [
    {
     "name": "stdout",
     "output_type": "stream",
     "text": [
      "The predicted class is: toyconveyor \n",
      "\n",
      "fan \t\t :  0.00000785305019235238432884216309\n",
      "pump \t\t :  0.00000006402477481515234103426337\n",
      "slider \t\t :  0.00047160021495074033737182617188\n",
      "toycar \t\t :  0.00012793445785064250230789184570\n",
      "toyconveyor \t\t :  0.99938941001892089843750000000000\n",
      "valve \t\t :  0.00000307006803268450312316417694\n"
     ]
    }
   ],
   "source": [
    "filename = 'E://temp_tau//toyconveyor-normal_id_06_00000476 .wav' \n",
    "print_prediction(filename)"
   ]
  },
  {
   "cell_type": "code",
   "execution_count": null,
   "metadata": {},
   "outputs": [],
   "source": []
  }
 ],
 "metadata": {
  "kernelspec": {
   "display_name": "Python 3",
   "language": "python",
   "name": "python3"
  },
  "language_info": {
   "codemirror_mode": {
    "name": "ipython",
    "version": 3
   },
   "file_extension": ".py",
   "mimetype": "text/x-python",
   "name": "python",
   "nbconvert_exporter": "python",
   "pygments_lexer": "ipython3",
   "version": "3.7.7"
  }
 },
 "nbformat": 4,
 "nbformat_minor": 4
}
