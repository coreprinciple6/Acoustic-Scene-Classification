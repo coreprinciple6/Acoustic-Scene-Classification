{
 "cells": [
  {
   "cell_type": "code",
   "execution_count": 23,
   "metadata": {},
   "outputs": [
    {
     "name": "stdout",
     "output_type": "stream",
     "text": [
      "fan-normal_id_01_00000000 \n",
      "wrote file b.png\n"
     ]
    }
   ],
   "source": [
    "import librosa\n",
    "import numpy\n",
    "import skimage\n",
    "import numpy as np\n",
    "import skimage.io\n",
    "import os\n",
    "\n",
    "def scale_minmax(X, min=0.0, max=1.0):\n",
    "    X_std = (X - X.min()) / (X.max() - X.min())\n",
    "    X_scaled = X_std * (max - min) + min\n",
    "    return X_scaled\n",
    "\n",
    "def spectrogram_image(y, sr, out, hop_length, n_mels):\n",
    "    # use log-melspectrogram\n",
    "    mels = librosa.feature.melspectrogram(y=y, sr=sr, n_mels=n_mels,\n",
    "                                            n_fft=hop_length*2, hop_length=hop_length)\n",
    "    mels = numpy.log(mels + 1e-9) # add small number to avoid log(0)\n",
    "\n",
    "    # min-max scale to fit inside 8-bit range\n",
    "    img = scale_minmax(mels, 0, 255).astype(numpy.uint8)\n",
    "    img = numpy.flip(img, axis=0) # put low frequencies at the bottom in image\n",
    "    img = 255-img # invert. make black==more energy\n",
    "\n",
    "    # save as PNG\n",
    "    skimage.io.imsave(out, img)\n",
    "\n",
    "\n",
    "if __name__ == '__main__':\n",
    "    # settings\n",
    "    hop_length = 512 # number of samples per time-step in spectrogram\n",
    "    n_mels = 224 # number of bins in spectrogram. Height of image\n",
    "    time_steps = 223 # number of time-steps. Width of image\n",
    "\n",
    "    # load audio. Using example from librosa\n",
    "    #path = librosa.util.example_audio_file()\n",
    "    path = 'E://Repos//Tau_Task2-dataset//fan-normal_id_01_00000000 .wav'\n",
    "    y, sr = librosa.load(path, offset=1.0, duration=10.0, sr=22050)\n",
    "    f_name, f_ext = os.path.splitext(path)\n",
    "    temp = [ f_name[i:i+30] for i in range(0, len(f_name), 30) ]\n",
    "    \n",
    "    print(temp[1])\n",
    "    out ='b.png'\n",
    "\n",
    "    # extract a fixed length window\n",
    "    start_sample = 0 # starting at beginning\n",
    "    length_samples = time_steps*hop_length\n",
    "    window = y[start_sample:start_sample+length_samples]\n",
    "\n",
    "    # convert to PNG\n",
    "    spectrogram_image(window, sr=sr, out=out, hop_length=hop_length, n_mels=n_mels)\n",
    "    print('wrote file', out)"
   ]
  },
  {
   "cell_type": "code",
   "execution_count": null,
   "metadata": {},
   "outputs": [],
   "source": []
  }
 ],
 "metadata": {
  "kernelspec": {
   "display_name": "Python 3",
   "language": "python",
   "name": "python3"
  },
  "language_info": {
   "codemirror_mode": {
    "name": "ipython",
    "version": 3
   },
   "file_extension": ".py",
   "mimetype": "text/x-python",
   "name": "python",
   "nbconvert_exporter": "python",
   "pygments_lexer": "ipython3",
   "version": "3.7.7"
  }
 },
 "nbformat": 4,
 "nbformat_minor": 4
}
