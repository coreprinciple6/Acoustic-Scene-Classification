{
 "cells": [
  {
   "cell_type": "code",
   "execution_count": 5,
   "metadata": {},
   "outputs": [
    {
     "name": "stdout",
     "output_type": "stream",
     "text": [
      "E:\\Repos\\Tau_Task2-dataset\\fan\n"
     ]
    }
   ],
   "source": [
    "# Python program to rename all file \n",
    "# names in your directory \n",
    "import os \n",
    "\n",
    "os.chdir('E://Repos//Tau_Task2-dataset//fan') \n",
    "print(os.getcwd()) \n",
    "COUNT = 1\n",
    "\n",
    "# Function to increment count \n",
    "# to make the files sorted. \n",
    "def increment(): \n",
    "\tglobal COUNT \n",
    "\tCOUNT = COUNT + 1\n",
    "\n",
    "\n",
    "for f in os.listdir(): \n",
    "\tf_name, f_ext = os.path.splitext(f) \n",
    "\tf_name = \"fan-\" + f_name\n",
    "\tincrement() \n",
    "\n",
    "\tnew_name = '{} {}'.format(f_name, f_ext) \n",
    "\tos.rename(f, new_name) \n"
   ]
  },
  {
   "cell_type": "code",
   "execution_count": 6,
   "metadata": {},
   "outputs": [
    {
     "name": "stdout",
     "output_type": "stream",
     "text": [
      "E:\\Repos\\Tau_Task2-dataset\\pump\\train\n"
     ]
    }
   ],
   "source": [
    "# rename pump folder\n",
    "\n",
    "os.chdir('E://Repos//Tau_Task2-dataset//pump//train') \n",
    "print(os.getcwd()) \n",
    "COUNT = 1\n",
    "\n",
    "# Function to increment count \n",
    "# to make the files sorted. \n",
    "def increment(): \n",
    "\tglobal COUNT \n",
    "\tCOUNT = COUNT + 1\n",
    "\n",
    "\n",
    "for f in os.listdir(): \n",
    "\tf_name, f_ext = os.path.splitext(f) \n",
    "\tf_name = \"pump-\" + f_name\n",
    "\tincrement() \n",
    "\n",
    "\tnew_name = '{} {}'.format(f_name, f_ext) \n",
    "\tos.rename(f, new_name) \n"
   ]
  },
  {
   "cell_type": "code",
   "execution_count": 7,
   "metadata": {},
   "outputs": [
    {
     "name": "stdout",
     "output_type": "stream",
     "text": [
      "E:\\Repos\\Tau_Task2-dataset\\slider\\train\n"
     ]
    }
   ],
   "source": [
    "# rename slider folder\n",
    "\n",
    "os.chdir('E://Repos//Tau_Task2-dataset//slider//train') \n",
    "print(os.getcwd()) \n",
    "COUNT = 1\n",
    "\n",
    "# Function to increment count \n",
    "# to make the files sorted. \n",
    "def increment(): \n",
    "\tglobal COUNT \n",
    "\tCOUNT = COUNT + 1\n",
    "\n",
    "\n",
    "for f in os.listdir(): \n",
    "\tf_name, f_ext = os.path.splitext(f) \n",
    "\tf_name = \"slider-\" + f_name\n",
    "\tincrement() \n",
    "\n",
    "\tnew_name = '{} {}'.format(f_name, f_ext) \n",
    "\tos.rename(f, new_name) \n"
   ]
  },
  {
   "cell_type": "code",
   "execution_count": 8,
   "metadata": {},
   "outputs": [
    {
     "name": "stdout",
     "output_type": "stream",
     "text": [
      "E:\\Repos\\Tau_Task2-dataset\\toycar\\train\n"
     ]
    }
   ],
   "source": [
    "# rename toycar folder\n",
    "\n",
    "os.chdir('E://Repos//Tau_Task2-dataset//toycar//train') \n",
    "print(os.getcwd()) \n",
    "COUNT = 1\n",
    "\n",
    "# Function to increment count \n",
    "# to make the files sorted. \n",
    "def increment(): \n",
    "\tglobal COUNT \n",
    "\tCOUNT = COUNT + 1\n",
    "\n",
    "\n",
    "for f in os.listdir(): \n",
    "\tf_name, f_ext = os.path.splitext(f) \n",
    "\tf_name = \"toycar-\" + f_name\n",
    "\tincrement() \n",
    "\n",
    "\tnew_name = '{} {}'.format(f_name, f_ext) \n",
    "\tos.rename(f, new_name) \n"
   ]
  },
  {
   "cell_type": "code",
   "execution_count": 9,
   "metadata": {},
   "outputs": [
    {
     "name": "stdout",
     "output_type": "stream",
     "text": [
      "E:\\Repos\\Tau_Task2-dataset\\toyconveyor\\train\n"
     ]
    }
   ],
   "source": [
    "# rename toyconveyor folder\n",
    "\n",
    "os.chdir('E://Repos//Tau_Task2-dataset//toyconveyor//train') \n",
    "print(os.getcwd()) \n",
    "COUNT = 1\n",
    "\n",
    "# Function to increment count \n",
    "# to make the files sorted. \n",
    "def increment(): \n",
    "\tglobal COUNT \n",
    "\tCOUNT = COUNT + 1\n",
    "\n",
    "\n",
    "for f in os.listdir(): \n",
    "\tf_name, f_ext = os.path.splitext(f) \n",
    "\tf_name = \"toyconveyor-\" + f_name\n",
    "\tincrement() \n",
    "\n",
    "\tnew_name = '{} {}'.format(f_name, f_ext) \n",
    "\tos.rename(f, new_name) \n"
   ]
  },
  {
   "cell_type": "code",
   "execution_count": 10,
   "metadata": {},
   "outputs": [
    {
     "name": "stdout",
     "output_type": "stream",
     "text": [
      "E:\\Repos\\Tau_Task2-dataset\\valve\\train\n"
     ]
    }
   ],
   "source": [
    "# rename valve folder\n",
    "\n",
    "os.chdir('E://Repos//Tau_Task2-dataset//valve//train') \n",
    "print(os.getcwd()) \n",
    "COUNT = 1\n",
    "\n",
    "# Function to increment count \n",
    "# to make the files sorted. \n",
    "def increment(): \n",
    "\tglobal COUNT \n",
    "\tCOUNT = COUNT + 1\n",
    "\n",
    "\n",
    "for f in os.listdir(): \n",
    "\tf_name, f_ext = os.path.splitext(f) \n",
    "\tf_name = \"valve-\" + f_name\n",
    "\tincrement() \n",
    "\n",
    "\tnew_name = '{} {}'.format(f_name, f_ext) \n",
    "\tos.rename(f, new_name) "
   ]
  },
  {
   "cell_type": "markdown",
   "metadata": {},
   "source": [
    "###  writing filenames to csv "
   ]
  },
  {
   "cell_type": "code",
   "execution_count": 27,
   "metadata": {},
   "outputs": [],
   "source": [
    "\n",
    "# import xlsxwriter module \n",
    "import xlsxwriter \n",
    "\n",
    "workbook = xlsxwriter.Workbook('E:/list.xlsx') \n",
    "worksheet = workbook.add_worksheet() \n",
    "\n",
    "# Start from the first cell. \n",
    "# Rows and columns are zero indexed. \n",
    "row = 0\n",
    "column = 0\n",
    "content = []\n",
    "\n",
    "os.chdir('E://Repos//Tau_Task2-dataset//fan') \n",
    "\n",
    "def increment(): \n",
    "    global COUNT \n",
    "    COUNT = COUNT + 1\n",
    "    \n",
    "    \n",
    "for f in os.listdir(): \n",
    "    f_name, f_ext = os.path.splitext(f) \n",
    "    worksheet.write(row, column, f_name) \n",
    "    row += 1 \n",
    "    increment()\n",
    "\n",
    "workbook.close() \n",
    "\n"
   ]
  },
  {
   "cell_type": "code",
   "execution_count": 28,
   "metadata": {},
   "outputs": [],
   "source": [
    "# import xlsxwriter module \n",
    "import xlsxwriter \n",
    "\n",
    "workbook = xlsxwriter.Workbook('E:/list.xlsx') \n",
    "worksheet = workbook.add_worksheet() \n",
    "\n",
    "# Start from the first cell. \n",
    "# Rows and columns are zero indexed. \n",
    "row = 0\n",
    "column = 0\n",
    "content = []\n",
    "\n",
    "os.chdir('E://Repos//Tau_Task2-dataset//pump//train') \n",
    "\n",
    "def increment(): \n",
    "    global COUNT \n",
    "    COUNT = COUNT + 1\n",
    "    \n",
    "    \n",
    "for f in os.listdir(): \n",
    "    f_name, f_ext = os.path.splitext(f) \n",
    "    worksheet.write(row, column, f_name) \n",
    "    row += 1 \n",
    "    increment()\n",
    "\n",
    "workbook.close() \n",
    "\n"
   ]
  },
  {
   "cell_type": "code",
   "execution_count": 29,
   "metadata": {},
   "outputs": [],
   "source": [
    "# import xlsxwriter module \n",
    "import xlsxwriter \n",
    "\n",
    "workbook = xlsxwriter.Workbook('E:/slider.xlsx') \n",
    "worksheet = workbook.add_worksheet() \n",
    "\n",
    "# Start from the first cell. \n",
    "# Rows and columns are zero indexed. \n",
    "row = 0\n",
    "column = 0\n",
    "content = []\n",
    "\n",
    "os.chdir('E://Repos//Tau_Task2-dataset//slider//train') \n",
    "\n",
    "def increment(): \n",
    "    global COUNT \n",
    "    COUNT = COUNT + 1\n",
    "    \n",
    "    \n",
    "for f in os.listdir(): \n",
    "    f_name, f_ext = os.path.splitext(f) \n",
    "    worksheet.write(row, column, f_name) \n",
    "    row += 1 \n",
    "    increment()\n",
    "\n",
    "workbook.close() \n",
    "\n"
   ]
  },
  {
   "cell_type": "code",
   "execution_count": 30,
   "metadata": {},
   "outputs": [],
   "source": [
    "# import xlsxwriter module \n",
    "import xlsxwriter \n",
    "\n",
    "workbook = xlsxwriter.Workbook('E:/toycar.xlsx') \n",
    "worksheet = workbook.add_worksheet() \n",
    "\n",
    "# Start from the first cell. \n",
    "# Rows and columns are zero indexed. \n",
    "row = 0\n",
    "column = 0\n",
    "content = []\n",
    "\n",
    "os.chdir('E://Repos//Tau_Task2-dataset//ToyCar//train') \n",
    "\n",
    "def increment(): \n",
    "    global COUNT \n",
    "    COUNT = COUNT + 1\n",
    "    \n",
    "    \n",
    "for f in os.listdir(): \n",
    "    f_name, f_ext = os.path.splitext(f) \n",
    "    worksheet.write(row, column, f_name) \n",
    "    row += 1 \n",
    "    increment()\n",
    "\n",
    "workbook.close() \n",
    "\n"
   ]
  },
  {
   "cell_type": "code",
   "execution_count": 31,
   "metadata": {},
   "outputs": [],
   "source": [
    "# import xlsxwriter module \n",
    "import xlsxwriter \n",
    "\n",
    "workbook = xlsxwriter.Workbook('E:/toyconveyor.xlsx') \n",
    "worksheet = workbook.add_worksheet() \n",
    "\n",
    "# Start from the first cell. \n",
    "# Rows and columns are zero indexed. \n",
    "row = 0\n",
    "column = 0\n",
    "content = []\n",
    "\n",
    "os.chdir('E://Repos//Tau_Task2-dataset//ToyConveyor//train') \n",
    "\n",
    "def increment(): \n",
    "    global COUNT \n",
    "    COUNT = COUNT + 1\n",
    "    \n",
    "    \n",
    "for f in os.listdir(): \n",
    "    f_name, f_ext = os.path.splitext(f) \n",
    "    worksheet.write(row, column, f_name) \n",
    "    row += 1 \n",
    "    increment()\n",
    "\n",
    "workbook.close() \n",
    "\n"
   ]
  },
  {
   "cell_type": "code",
   "execution_count": 32,
   "metadata": {},
   "outputs": [],
   "source": [
    "# import xlsxwriter module \n",
    "import xlsxwriter \n",
    "\n",
    "workbook = xlsxwriter.Workbook('E:/valve.xlsx') \n",
    "worksheet = workbook.add_worksheet() \n",
    "\n",
    "# Start from the first cell. \n",
    "# Rows and columns are zero indexed. \n",
    "row = 0\n",
    "column = 0\n",
    "content = []\n",
    "\n",
    "os.chdir('E://Repos//Tau_Task2-dataset//valve//train') \n",
    "\n",
    "def increment(): \n",
    "    global COUNT \n",
    "    COUNT = COUNT + 1\n",
    "    \n",
    "    \n",
    "for f in os.listdir(): \n",
    "    f_name, f_ext = os.path.splitext(f) \n",
    "    worksheet.write(row, column, f_name) \n",
    "    row += 1 \n",
    "    increment()\n",
    "\n",
    "workbook.close() \n",
    "\n"
   ]
  },
  {
   "cell_type": "code",
   "execution_count": 33,
   "metadata": {},
   "outputs": [
    {
     "name": "stdout",
     "output_type": "stream",
     "text": [
      "capchie\n"
     ]
    }
   ],
   "source": [
    "print('capchie')"
   ]
  },
  {
   "cell_type": "code",
   "execution_count": null,
   "metadata": {},
   "outputs": [],
   "source": []
  }
 ],
 "metadata": {
  "kernelspec": {
   "display_name": "Python 3",
   "language": "python",
   "name": "python3"
  },
  "language_info": {
   "codemirror_mode": {
    "name": "ipython",
    "version": 3
   },
   "file_extension": ".py",
   "mimetype": "text/x-python",
   "name": "python",
   "nbconvert_exporter": "python",
   "pygments_lexer": "ipython3",
   "version": "3.7.7"
  }
 },
 "nbformat": 4,
 "nbformat_minor": 4
}
